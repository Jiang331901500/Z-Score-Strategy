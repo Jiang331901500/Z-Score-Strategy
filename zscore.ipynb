{
 "cells": [
  {
   "cell_type": "code",
   "execution_count": 1,
   "id": "edb3a871",
   "metadata": {},
   "outputs": [],
   "source": [
    "from zscore_strategy import DynamicZScoreStrategy\n",
    "from datetime import datetime, timedelta\n",
    "\n",
    "# 设置时间范围(获取最近的数据)\n",
    "end_date = datetime.now().strftime(\"%Y-%m-%d 15:05:00\")\n",
    "start_date = (datetime.now() - timedelta(days=14)).strftime(\"%Y-%m-%d 09:25:00\")\n",
    "\n",
    "# 创建策略实例\n",
    "strategy = DynamicZScoreStrategy(\n",
    "    symbol=\"510500\"\n",
    ")\n",
    "\n",
    "# 获取数据\n",
    "strategy.fetch_data(start_date, end_date)\n",
    "\n",
    "# 计算Z-Score\n",
    "strategy.calculate_zscore()\n",
    "# 计算Z动态阈值\n",
    "strategy.calculate_dynamic_thresholds()\n",
    "\n",
    "# CCI\n",
    "strategy.calculate_cci()\n",
    "\n",
    "# 生成交易信号\n",
    "strategy.generate_signals()\n",
    "\n",
    "# 回测策略\n",
    "trade_history, final_value, strategy_return, benchmark_return, max_drawdown = strategy.backtest()\n",
    "\n",
    "# 可视化结果\n",
    "strategy.plot_results()"
   ]
  },
  {
   "cell_type": "code",
   "execution_count": null,
   "id": "80bb1779",
   "metadata": {},
   "outputs": [],
   "source": [
    "strategy.data[['时间', 'z_score', 'z_sell_threshold', 'cci', 'cci_overbought', 'z_signal', 'cci_signal', 'positions']]"
   ]
  },
  {
   "cell_type": "code",
   "execution_count": null,
   "id": "a802a58d",
   "metadata": {},
   "outputs": [],
   "source": [
    "strategy.alert.send_alert('sell', \"测试触发信号\", strategy.get_chart())"
   ]
  }
 ],
 "metadata": {
  "kernelspec": {
   "display_name": "pytorch_env_310",
   "language": "python",
   "name": "python3"
  },
  "language_info": {
   "codemirror_mode": {
    "name": "ipython",
    "version": 3
   },
   "file_extension": ".py",
   "mimetype": "text/x-python",
   "name": "python",
   "nbconvert_exporter": "python",
   "pygments_lexer": "ipython3",
   "version": "3.10.16"
  }
 },
 "nbformat": 4,
 "nbformat_minor": 5
}
